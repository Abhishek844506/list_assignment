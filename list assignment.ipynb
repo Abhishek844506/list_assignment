{
 "cells": [
  {
   "cell_type": "code",
   "execution_count": null,
   "id": "bbd37880-c495-4030-911e-5403f0444b04",
   "metadata": {},
   "outputs": [],
   "source": [
    "Q1. Create an empty list.\n",
    "Ans = Empty_list=[]\n",
    "\n",
    "Q2. Create a list and add an element to the end of this list.\n",
    "Ans = my_list=[\"element1\", \"element2\"]\n",
    "      my_list.append(\"element3\")\n",
    "\n",
    "Q3. For the above created list print the last element.\n",
    "Ans = my_list=[\"element1\", \"element2\"]\n",
    "    my_list.append(\"element3\")  \n",
    "    last_element = my_list[-1]\n",
    "    print(last_element)\n",
    "\n",
    "Q4. Reverse the above created list.\n",
    "Ans = my_list.reverse()\n",
    "      print(my_list)\n",
    "\n",
    "Q5. Sort the above created list.\n",
    "Ans = my_list.sort()\n",
    "\n",
    "Q6. Create a list of your top three favorite movies, then print the second movie title.\n",
    "Ans = fav_movie = [\"3idiots\" , \"PK\" , \"Golmal again\"]\n",
    "      print(fav_movie[-2])\n",
    "    \n",
    "Q7. Create a list of your favorite animals, then add a new animal to the list and print the updated list.\n",
    "Ans = fav_animals = [\"Cat\", \"Dog\" , \"Rat\" , \"Elephant\"]\n",
    "      fav_animals.append(\"Horse\")\n",
    "      print(fav_animals)\n",
    "\n",
    "Q8. Create a list of your favorite cities, then use the index() method to find the position of a specific city\n",
    "    on the list and print it.\n",
    "Ans = fav_city=[\"Patna\", \"Kolkata\", \"mumbai\", \"jaipur\", \"Hajipur\"]\n",
    "      print(fav_city.index(\"Kolkata\"))\n",
    "      "
   ]
  }
 ],
 "metadata": {
  "kernelspec": {
   "display_name": "Python 3 (ipykernel)",
   "language": "python",
   "name": "python3"
  },
  "language_info": {
   "codemirror_mode": {
    "name": "ipython",
    "version": 3
   },
   "file_extension": ".py",
   "mimetype": "text/x-python",
   "name": "python",
   "nbconvert_exporter": "python",
   "pygments_lexer": "ipython3",
   "version": "3.10.8"
  }
 },
 "nbformat": 4,
 "nbformat_minor": 5
}
